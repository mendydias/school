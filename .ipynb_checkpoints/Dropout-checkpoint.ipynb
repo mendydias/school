{
 "cells": [
  {
   "cell_type": "markdown",
   "id": "30d77af2",
   "metadata": {},
   "source": [
    "# Imports"
   ]
  },
  {
   "cell_type": "code",
   "execution_count": 1,
   "id": "cb791345",
   "metadata": {},
   "outputs": [],
   "source": [
    "import pandas"
   ]
  },
  {
   "cell_type": "markdown",
   "id": "9d74ec68",
   "metadata": {},
   "source": [
    "## Read, clean and ready student data"
   ]
  },
  {
   "cell_type": "code",
   "execution_count": null,
   "id": "2f34eb82",
   "metadata": {},
   "outputs": [],
   "source": [
    "students_df = pandas.re"
   ]
  }
 ],
 "metadata": {
  "kernelspec": {
   "display_name": "Python 3 (ipykernel)",
   "language": "python",
   "name": "python3"
  },
  "language_info": {
   "codemirror_mode": {
    "name": "ipython",
    "version": 3
   },
   "file_extension": ".py",
   "mimetype": "text/x-python",
   "name": "python",
   "nbconvert_exporter": "python",
   "pygments_lexer": "ipython3",
   "version": "3.9.7"
  }
 },
 "nbformat": 4,
 "nbformat_minor": 5
}
